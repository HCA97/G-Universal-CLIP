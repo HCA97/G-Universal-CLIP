{
 "cells": [
  {
   "cell_type": "markdown",
   "id": "d87b266d",
   "metadata": {},
   "source": [
    "# MODELS TO BE ENSEMBLE"
   ]
  },
  {
   "cell_type": "code",
   "execution_count": null,
   "id": "3643903b",
   "metadata": {},
   "outputs": [],
   "source": [
    "# path1 is better model\n",
    "path1 = f'./my_experiments/soup_slim_p10k_h_m_image_net_happy_whale_w_03.pt' \n",
    "path2 = f'./my_experiments/ViT-H-14-laion2b_s32b_b79k-image_net-v2-p10k-h&m-amazon-Arcface(k=3)-All-Epoch(10)-Reduce_LR_0.1/model_epoch_2_mAP3_0.58_slim.pt'"
   ]
  },
  {
   "cell_type": "code",
   "execution_count": null,
   "id": "cc3868da",
   "metadata": {},
   "outputs": [],
   "source": [
    "import os\n",
    "import math\n",
    "\n",
    "\n",
    "import numpy as np\n",
    " \n",
    "import torch as th\n",
    "import torch.nn as nn\n",
    "import torch.nn.functional as F\n",
    "import open_clip\n",
    "\n",
    "from torch.utils.data import Dataset\n",
    "from torch.utils.data import DataLoader\n",
    "\n",
    "import torchvision.transforms as T\n",
    "\n",
    "from tqdm import tqdm\n",
    "import pandas as pd\n",
    "import cv2\n",
    "from PIL import Image\n",
    "\n",
    "import utilities"
   ]
  },
  {
   "cell_type": "code",
   "execution_count": null,
   "id": "0cccba01",
   "metadata": {},
   "outputs": [],
   "source": [
    "# get product 10k\n",
    "\n",
    "def read_img(img_path, is_gray=False):\n",
    "    mode = cv2.IMREAD_COLOR if not is_gray else cv2.IMREAD_GRAYSCALE\n",
    "    img = cv2.imread(img_path, mode)\n",
    "    if not is_gray:\n",
    "        img = cv2.cvtColor(img, cv2.COLOR_BGR2RGB)\n",
    "    return img\n",
    "\n",
    "class ProductDataset(Dataset):\n",
    "    def __init__(self, \n",
    "                 img_dir, \n",
    "                 annotations_file, \n",
    "                 transform=None, \n",
    "                 final_transform=None, \n",
    "                 headers=None,\n",
    "                 test_mode=False):\n",
    "        self.data = pd.read_csv(annotations_file)\n",
    "        self.img_dir = img_dir\n",
    "        self.transform = transform\n",
    "        self.final_transform = final_transform\n",
    "        self.headers = {\"img_path\": \"img_path\", \"product_id\": \"product_id\"}\n",
    "        if headers:\n",
    "            self.headers = headers\n",
    "        self.test_mode = test_mode\n",
    "            \n",
    "    def __len__(self):\n",
    "        return len(self.data)\n",
    "    \n",
    "    def __getitem__(self, idx):\n",
    "        img_path = os.path.join(self.img_dir, self.data[self.headers[\"img_path\"]][idx])\n",
    "        \n",
    "        img = read_img(img_path)\n",
    "        if self.test_mode:\n",
    "            x, y, w, h = self.data[\"bbox_x\"][idx], self.data[\"bbox_y\"][idx], \\\n",
    "                         self.data[\"bbox_w\"][idx], self.data[\"bbox_h\"][idx]\n",
    "            img = img[y:y+h, x:x+w]\n",
    "            \n",
    "        \n",
    "        if self.transform is not None:\n",
    "            img = transform(image=img)[\"image\"]\n",
    "        \n",
    "        if self.final_transform is not None:\n",
    "            if isinstance(img, np.ndarray):\n",
    "                img =  Image.fromarray(img)\n",
    "            img = self.final_transform(img)\n",
    "            \n",
    "        product_id = self.data[self.headers[\"product_id\"]][idx]\n",
    "        return img, product_id\n",
    "    \n",
    "def get_final_transform():  \n",
    "    final_transform = T.Compose([\n",
    "            T.Resize(\n",
    "                size=(224, 224), \n",
    "                interpolation=T.InterpolationMode.BICUBIC,\n",
    "                antialias=True),\n",
    "            T.ToTensor(), \n",
    "            T.Normalize(\n",
    "                mean=(0.48145466, 0.4578275, 0.40821073), \n",
    "                std=(0.26862954, 0.26130258, 0.27577711)\n",
    "            )\n",
    "        ])\n",
    "    return final_transform\n",
    "\n",
    "@th.no_grad()\n",
    "def extract_embeddings(model, dataloader, epoch=10, use_cuda=True):\n",
    "    features = []\n",
    "    product_id = []\n",
    "    \n",
    "    for _ in range(epoch):\n",
    "        for imgs, p_id in tqdm(dataloader):\n",
    "            if use_cuda:\n",
    "                imgs = imgs.cuda()\n",
    "            features.append(th.squeeze(model(imgs.half())).detach().cpu().numpy().astype(np.float32))\n",
    "            product_id.append(th.squeeze(p_id).detach().cpu().numpy())\n",
    "\n",
    "\n",
    "    return np.concatenate(features, axis=0), np.concatenate(product_id)"
   ]
  },
  {
   "cell_type": "markdown",
   "id": "fc9623a3",
   "metadata": {},
   "source": [
    "# ENSEMBLE STEP"
   ]
  },
  {
   "cell_type": "code",
   "execution_count": null,
   "id": "d6758306",
   "metadata": {},
   "outputs": [],
   "source": [
    "backbone = open_clip.create_model_and_transforms('ViT-H-14', None)[0].visual\n",
    "backbone.load_state_dict(th.load(path1))\n",
    "backbone.half()\n",
    "backbone.eval()"
   ]
  },
  {
   "cell_type": "code",
   "execution_count": null,
   "id": "5f74f030",
   "metadata": {},
   "outputs": [],
   "source": [
    "final_transform = get_final_transform()\n",
    "img_dir = \"../development_test_data\"\n",
    "dataset_test = ProductDataset(img_dir, os.path.join(img_dir, \"queries.csv\"), None, final_transform, test_mode=True)\n",
    "dataloader_test = DataLoader(dataset_test, batch_size=512, num_workers=4)\n",
    "\n",
    "dataset_train = ProductDataset(img_dir, os.path.join(img_dir, \"gallery.csv\"), None, final_transform)\n",
    "dataloader_train = DataLoader(dataset_train, batch_size=512, num_workers=4)\n",
    "\n",
    "img_dir = \"../amazon_dataset_1\"\n",
    "headers = {\"img_path\": \"path\", \"product_id\": \"id\"}\n",
    "dataset_test = ProductDataset(img_dir, os.path.join(img_dir, \"query.csv\"), None, final_transform, headers=headers)\n",
    "dataloader_amazon_test = DataLoader(dataset_test, batch_size=512, num_workers=4)\n",
    "\n",
    "dataset_train = ProductDataset(img_dir, os.path.join(img_dir, \"gallery.csv\"), None, final_transform, headers=headers)\n",
    "dataloader_amazon_train = DataLoader(dataset_train, batch_size=512, num_workers=4)"
   ]
  },
  {
   "cell_type": "code",
   "execution_count": null,
   "id": "0301d7bf",
   "metadata": {},
   "outputs": [],
   "source": [
    "\n",
    "@th.no_grad()\n",
    "def compute_score_test_data(model):\n",
    "    embeddings_query, labels_query = extract_embeddings(model, dataloader_test, 1)\n",
    "    embeddings_gallery, labels_gallery = extract_embeddings(model, dataloader_train, 1)\n",
    "\n",
    "    _, indices = utilities.get_similiarity_l2(embeddings_gallery, embeddings_query, 1000)\n",
    "\n",
    "\n",
    "    indices = indices.tolist()\n",
    "    labels_gallery = labels_gallery.tolist()\n",
    "    labels_query = labels_query.tolist()\n",
    "\n",
    "    preds = utilities.convert_indices_to_labels(indices, labels_gallery)\n",
    "    score = utilities.map_per_set(labels_query, preds)\n",
    "    \n",
    "    return score\n",
    "\n",
    "@th.no_grad()\n",
    "def compute_score_amazon_data(model):\n",
    "    embeddings_query, labels_query = extract_embeddings(model, dataloader_amazon_test, 1)\n",
    "    embeddings_gallery, labels_gallery = extract_embeddings(model, dataloader_amazon_train, 1)\n",
    "\n",
    "    _, indices = utilities.get_similiarity_l2(embeddings_gallery, embeddings_query, 1000)\n",
    "\n",
    "\n",
    "    indices = indices.tolist()\n",
    "    labels_gallery = labels_gallery.tolist()\n",
    "    labels_query = labels_query.tolist()\n",
    "\n",
    "    preds = utilities.convert_indices_to_labels(indices, labels_gallery)\n",
    "    score = utilities.map_per_set(labels_query, preds)\n",
    "    \n",
    "    return score"
   ]
  },
  {
   "cell_type": "code",
   "execution_count": null,
   "id": "21192841",
   "metadata": {},
   "outputs": [],
   "source": [
    "n = 20\n",
    "W = [i/n for i in range(0, n+1)]\n",
    "m_ap_test = []\n",
    "m_ap_amazon = []\n",
    "\n",
    "with th.no_grad():\n",
    "    for w in W:\n",
    "        model = open_clip.create_model_and_transforms('ViT-H-14', None)[0].visual\n",
    "        model.load_state_dict(th.load(path2))\n",
    "        model.half()\n",
    "        model.eval()\n",
    "\n",
    "        for o, b in zip(model.parameters(), backbone.parameters()):\n",
    "            o.data = w*o + (1 - w)*b\n",
    "\n",
    "        model.cuda()\n",
    "        #score_amazon = compute_score_amazon_data(model)\n",
    "        score_amazon = 0\n",
    "        score_test = compute_score_test_data(model)\n",
    "\n",
    "        print(f'Weight {w} - test score {score_test} | amazon score {score_amazon}')\n",
    "        m_ap_test.append(score_test)\n",
    "        #m_ap_amazon.append(score_amazon)\n",
    "        "
   ]
  },
  {
   "cell_type": "code",
   "execution_count": null,
   "id": "cc6cc435",
   "metadata": {},
   "outputs": [],
   "source": [
    "model = backbone\n",
    "model.cuda()\n",
    "score_amazon = compute_score_amazon_data(model)\n",
    "score_test = compute_score_test_data(model)\n",
    "score_amazon, score_test"
   ]
  },
  {
   "cell_type": "code",
   "execution_count": null,
   "id": "bde9086e",
   "metadata": {},
   "outputs": [],
   "source": [
    "import matplotlib.pyplot as plt\n",
    "\n",
    "%matplotlib inline"
   ]
  },
  {
   "cell_type": "code",
   "execution_count": null,
   "id": "6376e390",
   "metadata": {},
   "outputs": [],
   "source": [
    "plt.plot(W, m_ap)"
   ]
  },
  {
   "cell_type": "markdown",
   "id": "4f8a53ab",
   "metadata": {},
   "source": [
    "# SELECT THE BEST w"
   ]
  },
  {
   "cell_type": "code",
   "execution_count": null,
   "id": "354db901",
   "metadata": {},
   "outputs": [],
   "source": [
    "w = 0.35\n",
    "soup_path = f'./my_experiments/soup_slim_p10k_h_m_amazon_image_net_happy_whale.pt'"
   ]
  },
  {
   "cell_type": "code",
   "execution_count": null,
   "id": "49bddf3c",
   "metadata": {},
   "outputs": [],
   "source": [
    "with th.no_grad():\n",
    "    model = open_clip.create_model_and_transforms('ViT-H-14', None)[0].visual\n",
    "    model.load_state_dict(th.load(path2))\n",
    "    model.half()\n",
    "    model.eval()\n",
    "\n",
    "    for o, b in zip(model.parameters(), backbone.parameters()):\n",
    "        o.data = w*o + (1 - w)*b\n",
    "\n",
    "    th.save(model.state_dict(), soup_path)"
   ]
  },
  {
   "cell_type": "code",
   "execution_count": null,
   "id": "11f0ded6",
   "metadata": {},
   "outputs": [],
   "source": []
  }
 ],
 "metadata": {
  "kernelspec": {
   "display_name": "Python 3 (ipykernel)",
   "language": "python",
   "name": "python3"
  },
  "language_info": {
   "codemirror_mode": {
    "name": "ipython",
    "version": 3
   },
   "file_extension": ".py",
   "mimetype": "text/x-python",
   "name": "python",
   "nbconvert_exporter": "python",
   "pygments_lexer": "ipython3",
   "version": "3.8.16"
  }
 },
 "nbformat": 4,
 "nbformat_minor": 5
}
