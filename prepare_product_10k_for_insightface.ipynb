{
 "cells": [
  {
   "cell_type": "code",
   "execution_count": 16,
   "id": "753bbc5e",
   "metadata": {},
   "outputs": [],
   "source": [
    "import os\n",
    "import random\n",
    "import shutil\n",
    "\n",
    "from tqdm import tqdm\n",
    "import pandas as pd\n"
   ]
  },
  {
   "cell_type": "code",
   "execution_count": 17,
   "id": "d0534afd",
   "metadata": {},
   "outputs": [],
   "source": [
    "class CFG:\n",
    "    min_samples= 4\n",
    "    samples_per_class = 50"
   ]
  },
  {
   "cell_type": "code",
   "execution_count": 18,
   "id": "ea22c730",
   "metadata": {},
   "outputs": [
    {
     "name": "stderr",
     "output_type": "stream",
     "text": [
      "100%|██████████████████████████████████████████████████████████████████████████████████████████████████████████████████████| 9691/9691 [00:01<00:00, 5550.61it/s]\n"
     ]
    }
   ],
   "source": [
    "csv_path = '../products-10k/train.csv'\n",
    "dataset_path = '../products-10k/train'\n",
    "\n",
    "def get_data(csv_path, dataset_path):\n",
    "    df = pd.read_csv(csv_path)\n",
    "    df_g = df.groupby('class', group_keys=True).apply(lambda x: x)\n",
    "\n",
    "    training_samples = []\n",
    "    num_classes = 0\n",
    "    new_cls_id = 0\n",
    "    value_counts = []\n",
    "    for cls in tqdm(set(df_g['class'])):\n",
    "        paths = list(df_g.name[df_g['class'] == cls])\n",
    "        if len(paths) >= CFG.min_samples:\n",
    "            num_classes += 1\n",
    "\n",
    "            random.shuffle(paths)\n",
    "\n",
    "            paths_ = [ \n",
    "                (os.path.join(dataset_path, p), new_cls_id) \n",
    "                for p in paths[:CFG.samples_per_class]\n",
    "            ]\n",
    "            \n",
    "            # some classes will be neglect it\n",
    "            new_cls_id += 1\n",
    "            \n",
    "            value_counts.append(len(paths_))\n",
    "            training_samples.extend(paths_)\n",
    "            \n",
    "    return training_samples, value_counts, num_classes\n",
    "\n",
    "CFG.samples_per_class = 50\n",
    "data_train, value_counts_train, num_classes_train = get_data('../products-10k/train.csv', '../products-10k/train')"
   ]
  },
  {
   "cell_type": "code",
   "execution_count": 19,
   "id": "180add89",
   "metadata": {},
   "outputs": [],
   "source": [
    "root = '../product-10k-insightface'\n",
    "os.makedirs(root, exist_ok=True)"
   ]
  },
  {
   "cell_type": "code",
   "execution_count": 20,
   "id": "3b51149b",
   "metadata": {},
   "outputs": [
    {
     "name": "stderr",
     "output_type": "stream",
     "text": [
      "100%|██████████████████████████████████████████████████████████████████████████████████████████████████████████████████| 139875/139875 [02:00<00:00, 1159.09it/s]\n"
     ]
    }
   ],
   "source": [
    "for img_path, cls in tqdm(data_train):\n",
    "    os.makedirs(f'{root}/{cls}', exist_ok=True)\n",
    "    f = os.path.split(img_path)[-1]\n",
    "    shutil.copyfile(img_path, f'{root}/{cls}/{f}')"
   ]
  },
  {
   "cell_type": "code",
   "execution_count": null,
   "id": "5493f446",
   "metadata": {},
   "outputs": [],
   "source": []
  }
 ],
 "metadata": {
  "kernelspec": {
   "display_name": "Python 3 (ipykernel)",
   "language": "python",
   "name": "python3"
  },
  "language_info": {
   "codemirror_mode": {
    "name": "ipython",
    "version": 3
   },
   "file_extension": ".py",
   "mimetype": "text/x-python",
   "name": "python",
   "nbconvert_exporter": "python",
   "pygments_lexer": "ipython3",
   "version": "3.8.16"
  }
 },
 "nbformat": 4,
 "nbformat_minor": 5
}
