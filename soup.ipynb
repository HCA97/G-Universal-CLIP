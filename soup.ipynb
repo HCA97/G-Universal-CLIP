{
 "cells": [
  {
   "cell_type": "code",
   "execution_count": 1,
   "metadata": {},
   "outputs": [],
   "source": [
    "import utilities\n",
    "import numpy as np\n",
    "import torch\n",
    "import torch.nn as nn\n",
    "import torch.nn.functional as F\n",
    "import math\n",
    "import open_clip\n",
    "import os\n"
   ]
  },
  {
   "cell_type": "code",
   "execution_count": 2,
   "metadata": {},
   "outputs": [],
   "source": [
    "class Head(nn.Module):\n",
    "    def __init__(self, hidden_size, slim):\n",
    "        super(Head, self).__init__()\n",
    "        self.emb = nn.Linear(hidden_size, CFG.emb_size, bias=False)\n",
    "        self.slim = slim\n",
    "        if not slim:\n",
    "            self.arc = utilities.ArcMarginProduct_subcenter(CFG.emb_size, CFG.n_classes)\n",
    "\n",
    "        self.dropout = utilities.Multisample_Dropout()\n",
    "\n",
    "    def forward(self, x):\n",
    "        embeddings = self.dropout(x, self.emb)\n",
    "        if not self.slim:\n",
    "            output = self.arc(embeddings)\n",
    "            return output, F.normalize(embeddings)\n",
    "        return F.normalize(embeddings)\n",
    "class Model(nn.Module):\n",
    "    def __init__(self, vit_backbone, head_size, version='v1', slim=False):\n",
    "        super(Model, self).__init__()\n",
    "        if version == 'v1':\n",
    "            self.encoder = vit_backbone.visual\n",
    "        elif version == 'v2':\n",
    "            self.encoder = vit_backbone.visual.trunk\n",
    "            \n",
    "        self.head = Head(head_size, slim)\n",
    "\n",
    "    def forward(self, x):\n",
    "        x = self.encoder(x)\n",
    "        return self.head(x)\n"
   ]
  },
  {
   "cell_type": "code",
   "execution_count": 4,
   "metadata": {},
   "outputs": [],
   "source": [
    "path_list =  [\n",
    "  f'my_experiments/ViT-H-14-laion2b_s32b_b79k-cut_out-product-10k/model_best_epoch_2_mAP3_0.55_slim.pt',\n",
    "  f'my_experiments/ViT-H-14-laion2b_s32b_b79k-happy_whale-product-10k/model_best_epoch_3_mAP3_0.54_slim.pt',\n",
    "  f'my_experiments/ViT-H-14-laion2b_s32b_b79k-None-product-10k/model_best_epoch_2_mAP3_0.53_slim.pt',\n",
    "  f'my_experiments/vit_h_224_products-10k/model_best_epoch_3_mAP3_0.53_slim.pt'\n",
    "]\n",
    "\n",
    "class CFG:\n",
    "    emb_size=512\n",
    "    model_name = 'ViT-H-14'\n",
    "    hidden_layer = 1024\n",
    "    version = 'v1'\n",
    "    n_classes=9004\n",
    "\n",
    "\n",
    "backbone, _, _ = open_clip.create_model_and_transforms(CFG.model_name, None)\n",
    "# Load models weights\n",
    "weight_list = []\n",
    "\n",
    "for path in path_list:\n",
    "    model = Model(backbone, CFG.hidden_layer, CFG.version, True)\n",
    "    model.load_state_dict(torch.load(path), strict=False)\n",
    "    weight_list.append(model.state_dict())\n",
    "\n",
    "# Average weights\n",
    "state_dict = dict((k, torch.stack([v[k] for v in weight_list]).mean(0)) for k in weight_list[0])\n",
    "model.load_state_dict(state_dict)\n",
    "\n",
    "torch.save(model.state_dict(), f'my_experiments/{CFG.model_name}-soup.pt')"
   ]
  },
  {
   "cell_type": "code",
   "execution_count": null,
   "metadata": {},
   "outputs": [],
   "source": []
  },
  {
   "cell_type": "code",
   "execution_count": null,
   "metadata": {},
   "outputs": [],
   "source": []
  },
  {
   "cell_type": "code",
   "execution_count": 3,
   "metadata": {},
   "outputs": [],
   "source": [
    "def slim_model(model_path, CFG):\n",
    "    name = os.path.splitext(model_path)[0]\n",
    "    \n",
    "    checkpoint = torch.load(model_path)\n",
    "    backbone, _, _ = open_clip.create_model_and_transforms(CFG.model_name, None)\n",
    "\n",
    "    model = Model(backbone, CFG.hidden_layer, CFG.version)\n",
    "    model.load_state_dict(checkpoint['model_state_dict'])\n",
    "\n",
    "    model_slim = Model(backbone, CFG.hidden_layer, CFG.version, True)\n",
    "    model_slim.head.emb = model.head.emb\n",
    "    model_slim.encoder = model.encoder\n",
    "\n",
    "    torch.save(model_slim.state_dict(), \n",
    "               name + '_slim.pt')\n",
    "    \n",
    "class CFG:\n",
    "    emb_size=512\n",
    "    model_name = 'ViT-H-14'\n",
    "    hidden_layer = 1024\n",
    "    version = 'v1'\n",
    "    n_classes=9691\n",
    "    \n",
    "\n",
    "slim_model(f'my_experiments/ViT-H-14-laion2b_s32b_b79k-image_net-product-10k-all/model_epoch_1_mAP5_0.55.pt', CFG())\n",
    "slim_model(f'my_experiments/ViT-H-14-laion2b_s32b_b79k-image_net-product-10k-all/model_epoch_2_mAP5_0.55.pt', CFG())\n",
    "slim_model(f'my_experiments/ViT-H-14-laion2b_s32b_b79k-image_net-product-10k-all/model_epoch_3_mAP5_0.55.pt', CFG())\n"
   ]
  },
  {
   "cell_type": "code",
   "execution_count": 7,
   "metadata": {},
   "outputs": [],
   "source": []
  },
  {
   "cell_type": "code",
   "execution_count": 1,
   "metadata": {},
   "outputs": [],
   "source": [
    "\n",
    "    \n",
    "checkpoint = torch.load(f'my_experiments/convnext_base_w-laion2b_s13b_b82k_augreg-image_net-v2-product-10k/model_best_epoch_3_mAP3_0.47.pt')\n",
    "backbone, _, _ = open_clip.create_model_and_transforms(CFG.model_name, None)\n",
    "\n",
    "model = Model(backbone, 1024, 'v2')\n",
    "model.load_state_dict(checkpoint['model_state_dict'])\n",
    "\n",
    "model_slim = Model(backbone, 1024, 'v2', True)\n",
    "model_slim.head.emb = model.head.emb\n",
    "model_slim.encoder = model.encoder\n",
    "\n",
    "\n",
    "torch.save(model_slim.state_dict(), \n",
    "           f'my_experiments/convnext_base_w-laion2b_s13b_b82k_augreg-image_net-v2-product-10k/model_best_epoch_3_mAP3_0.47_slim.pt')"
   ]
  },
  {
   "cell_type": "code",
   "execution_count": null,
   "metadata": {},
   "outputs": [],
   "source": []
  }
 ],
 "metadata": {
  "kernelspec": {
   "display_name": "Python 3 (ipykernel)",
   "language": "python",
   "name": "python3"
  },
  "language_info": {
   "codemirror_mode": {
    "name": "ipython",
    "version": 3
   },
   "file_extension": ".py",
   "mimetype": "text/x-python",
   "name": "python",
   "nbconvert_exporter": "python",
   "pygments_lexer": "ipython3",
   "version": "3.8.16"
  },
  "vscode": {
   "interpreter": {
    "hash": "e4ee870ab444af8a8689fba9fdb6a16993f9af4d6f8c51486b98fd7ee4129479"
   }
  }
 },
 "nbformat": 4,
 "nbformat_minor": 2
}
